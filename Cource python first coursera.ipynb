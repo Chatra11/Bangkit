{
 "cells": [
  {
   "cell_type": "code",
   "execution_count": 1,
   "id": "e99698c0",
   "metadata": {},
   "outputs": [
    {
     "name": "stdout",
     "output_type": "stream",
     "text": [
      "3.16\n"
     ]
    }
   ],
   "source": [
    "print((6-2)/(5*(1+4))+3)"
   ]
  },
  {
   "cell_type": "code",
   "execution_count": 1,
   "id": "bfab6606",
   "metadata": {},
   "outputs": [
    {
     "name": "stdout",
     "output_type": "stream",
     "text": [
      "12\n"
     ]
    }
   ],
   "source": [
    "def segitiga(t,a):\n",
    "    return (t*a)/2\n",
    "a = segitiga(4,5)\n",
    "print(int(segitiga(6,4)))"
   ]
  },
  {
   "cell_type": "code",
   "execution_count": 5,
   "id": "73dd43ae",
   "metadata": {},
   "outputs": [
    {
     "name": "stdout",
     "output_type": "stream",
     "text": [
      "20\n"
     ]
    }
   ],
   "source": [
    "print(4*5)"
   ]
  },
  {
   "cell_type": "code",
   "execution_count": 18,
   "id": "41c1359a",
   "metadata": {},
   "outputs": [
    {
     "name": "stdout",
     "output_type": "stream",
     "text": [
      "(5, 5, 3)\n"
     ]
    }
   ],
   "source": [
    "def urut(a,b,c):\n",
    "    if(a>=b and a>=c and c>=b):\n",
    "        return a,c,b\n",
    "    elif(a>=b and a>=c and c<=b):\n",
    "        return a,b,c\n",
    "    elif(b>=a and b>=c and c>=a ):\n",
    "        return b,c,a\n",
    "    elif(b>=a and b>=c and c<=a ):\n",
    "        return b,a,c\n",
    "    elif(c>=a and c>=b and a>=b):\n",
    "        return c,a,b\n",
    "    else:\n",
    "        return c,b,a\n",
    "print(urut(3,5,5))\n"
   ]
  },
  {
   "cell_type": "code",
   "execution_count": 20,
   "id": "f0292667",
   "metadata": {},
   "outputs": [
    {
     "name": "stdout",
     "output_type": "stream",
     "text": [
      "genap\n",
      "ganjil\n"
     ]
    }
   ],
   "source": [
    "def genap(a):\n",
    "    if a %2 == 0:\n",
    "        return print(\"genap\")\n",
    "    else:\n",
    "        return print(\"ganjil\")\n",
    "genap(8)\n",
    "genap(7)"
   ]
  },
  {
   "cell_type": "code",
   "execution_count": 23,
   "id": "c61e9f2a",
   "metadata": {},
   "outputs": [
    {
     "name": "stdout",
     "output_type": "stream",
     "text": [
      "0\n"
     ]
    }
   ],
   "source": [
    "def calculate_storage(filesize):\n",
    "    block_size = 4096\n",
    "    # Use floor division to calculate how many blocks are fully occupied\n",
    "    full_blocks = block_size*2\n",
    "    # Use the modulo operator to check whether there's any remainder\n",
    "    partial_block_remainder = block_size % filesize \n",
    "    print(partial_block_remainder)\n",
    "calculate_storage(1)"
   ]
  },
  {
   "cell_type": "code",
   "execution_count": 24,
   "id": "ff76ef10",
   "metadata": {},
   "outputs": [
    {
     "ename": "TypeError",
     "evalue": "'<' not supported between instances of 'int' and 'str'",
     "output_type": "error",
     "traceback": [
      "\u001b[1;31m---------------------------------------------------------------------------\u001b[0m",
      "\u001b[1;31mTypeError\u001b[0m                                 Traceback (most recent call last)",
      "Cell \u001b[1;32mIn [24], line 1\u001b[0m\n\u001b[1;32m----> 1\u001b[0m \u001b[38;5;28mprint\u001b[39m(\u001b[38;5;241;43m7\u001b[39;49m\u001b[38;5;241;43m<\u001b[39;49m\u001b[38;5;124;43m\"\u001b[39;49m\u001b[38;5;124;43mnumber\u001b[39;49m\u001b[38;5;124;43m\"\u001b[39;49m)\n",
      "\u001b[1;31mTypeError\u001b[0m: '<' not supported between instances of 'int' and 'str'"
     ]
    }
   ],
   "source": [
    "print(7 < \"number\")"
   ]
  },
  {
   "cell_type": "code",
   "execution_count": 25,
   "id": "0d160e0c",
   "metadata": {},
   "outputs": [
    {
     "name": "stdout",
     "output_type": "stream",
     "text": [
      "False\n"
     ]
    }
   ],
   "source": [
    "x = 5*2\n",
    "\n",
    "print((10 != x) or (10 > x))"
   ]
  },
  {
   "cell_type": "code",
   "execution_count": null,
   "id": "c9619806",
   "metadata": {},
   "outputs": [],
   "source": [
    "def loop(x):\n",
    "    n = 1 \n",
    "    while n<=x:\n",
    "        print(\"\"+str(n))\n",
    "        n = n+1\n",
    "    print(\"done ya bang\")\n",
    "loop(9)"
   ]
  },
  {
   "cell_type": "code",
   "execution_count": 15,
   "id": "35f3f6c8",
   "metadata": {},
   "outputs": [
    {
     "name": "stdout",
     "output_type": "stream",
     "text": [
      "18\n",
      "19\n",
      "20\n",
      "done y bng\n"
     ]
    }
   ],
   "source": [
    "def prima(n):\n",
    "    while n <= 20:\n",
    "        if n % n == 1:\n",
    "            print(n)\n",
    "            n += 1\n",
    "        else:\n",
    "            print(n)\n",
    "            n += 1\n",
    "    print(\"done y bng\")\n",
    "prima(18)"
   ]
  },
  {
   "cell_type": "code",
   "execution_count": 7,
   "id": "15a48b4f",
   "metadata": {},
   "outputs": [
    {
     "data": {
      "text/plain": [
       "False"
      ]
     },
     "execution_count": 7,
     "metadata": {},
     "output_type": "execute_result"
    }
   ],
   "source": [
    "def is_power_of_two(number):\n",
    "    while number % 2 == 0:\n",
    "        number = number / 2\n",
    "        if number == 1:\n",
    "            return True\n",
    "        else: \n",
    "            return False\n",
    "is_power_of_two(0)\n"
   ]
  },
  {
   "cell_type": "code",
   "execution_count": 5,
   "id": "5764bff9",
   "metadata": {},
   "outputs": [
    {
     "name": "stdout",
     "output_type": "stream",
     "text": [
      "1\n",
      "11\n",
      "21\n",
      "31\n",
      "41\n",
      "51\n",
      "61\n",
      "71\n",
      "81\n",
      "91\n",
      "101\n"
     ]
    }
   ],
   "source": [
    "for x in range(1, 102,10):\n",
    "    print(x)"
   ]
  },
  {
   "cell_type": "code",
   "execution_count": 8,
   "id": "fc59423f",
   "metadata": {},
   "outputs": [
    {
     "name": "stdout",
     "output_type": "stream",
     "text": [
      "0\n",
      "1\n",
      "2\n",
      "3\n"
     ]
    }
   ],
   "source": [
    "for x in range(3+1):\n",
    "    print(x)"
   ]
  },
  {
   "cell_type": "code",
   "execution_count": 9,
   "id": "102026f1",
   "metadata": {},
   "outputs": [
    {
     "name": "stdout",
     "output_type": "stream",
     "text": [
      "4\n",
      "9\n",
      "14\n",
      "19\n",
      "24\n"
     ]
    }
   ],
   "source": [
    "for x in range(2*2, 25, 3+2):\n",
    "    print(x)"
   ]
  },
  {
   "cell_type": "code",
   "execution_count": 23,
   "id": "f0e89333",
   "metadata": {},
   "outputs": [
    {
     "name": "stdout",
     "output_type": "stream",
     "text": [
      "0 00 10 20 30 40 50 61 01 11 21 31 41 51 62 02 12 22 32 42 52 63 03 13 23 33 43 53 64 04 14 24 34 44 54 65 05 15 25 35 45 55 66 06 16 26 36 46 56 6"
     ]
    }
   ],
   "source": [
    "for x in range(0,6+1):\n",
    "    for y in range(0,6+1):\n",
    "        print(x,y,end=\"\")"
   ]
  },
  {
   "cell_type": "code",
   "execution_count": 33,
   "id": "f985c273",
   "metadata": {},
   "outputs": [
    {
     "name": "stdout",
     "output_type": "stream",
     "text": [
      "persib vs persija\n",
      "persib vs barito\n",
      "persib vs psm\n",
      "persija vs persib\n",
      "persija vs barito\n",
      "persija vs psm\n",
      "barito vs persib\n",
      "barito vs persija\n",
      "barito vs psm\n",
      "psm vs persib\n",
      "psm vs persija\n",
      "psm vs barito\n"
     ]
    }
   ],
   "source": [
    "tim = ['persib','persija','barito','psm']\n",
    "for tims in tim:\n",
    "    for away in tim:\n",
    "        if tims!=away:\n",
    "            print(\"\" + tims +\" vs \"+ \"\" + away )\n",
    "        else:\n",
    "            print(end=\"\")"
   ]
  },
  {
   "cell_type": "code",
   "execution_count": 1,
   "id": "01419c04",
   "metadata": {},
   "outputs": [
    {
     "name": "stdout",
     "output_type": "stream",
     "text": [
      "12\n",
      "18\n",
      "24\n",
      "30\n",
      "36\n"
     ]
    }
   ],
   "source": [
    "for n in range(6,18+1,3):\n",
    "    print(n*2) "
   ]
  },
  {
   "cell_type": "code",
   "execution_count": null,
   "id": "d6352bad",
   "metadata": {},
   "outputs": [],
   "source": [
    "def is_power_of(number, base):\n",
    "  # Base case: when number is smaller than base.\n",
    "  if number < base:\n",
    "    # If number is equal to 1, it's a power (base**0).\n",
    "    return 0\n",
    "\n",
    "  # Recursive case: keep dividing number by base.\n",
    "  return is_power_of(number, base)\n",
    "\n",
    "print(is_power_of(8,2)) # Should be True\n",
    "print(is_power_of(64,4)) # Should be True\n",
    "print(is_power_of(70,10)) # Should be False"
   ]
  },
  {
   "cell_type": "code",
   "execution_count": 9,
   "id": "b321e1ac",
   "metadata": {},
   "outputs": [
    {
     "name": "stdout",
     "output_type": "stream",
     "text": [
      "6\n",
      "12\n"
     ]
    }
   ],
   "source": [
    "def sum_positive_numbers(n):\n",
    "  return n + n\n",
    "\n",
    "print(sum_positive_numbers(3)) # Should be 6\n",
    "print(sum_positive_numbers()) # Should be 15"
   ]
  },
  {
   "cell_type": "code",
   "execution_count": 14,
   "id": "d8c76fd1",
   "metadata": {},
   "outputs": [
    {
     "name": "stdout",
     "output_type": "stream",
     "text": [
      "1\n",
      "3\n",
      "6\n",
      "10\n"
     ]
    }
   ],
   "source": [
    "def sum_positive_numbers(n):\n",
    "  x = 0\n",
    "  for x in range(n):\n",
    "    x = n + sum_positive_numbers(n-1)\n",
    "  return x\n",
    "print(sum_positive_numbers(1)) # Should be 6\n",
    "print(sum_positive_numbers(2)) # Should be 15\n",
    "print(sum_positive_numbers(3)) # Should be 6\n",
    "print(sum_positive_numbers(4)) # Should be 15"
   ]
  },
  {
   "cell_type": "code",
   "execution_count": 27,
   "id": "5a1aea3d",
   "metadata": {},
   "outputs": [
    {
     "name": "stdout",
     "output_type": "stream",
     "text": [
      "55\n"
     ]
    }
   ],
   "source": [
    "x = 1\n",
    "sum = 0\n",
    "while x <= 10:\n",
    "    sum += x\n",
    "    x += 1\n",
    "print(sum)\n",
    "# Should print 55"
   ]
  },
  {
   "cell_type": "code",
   "execution_count": 30,
   "id": "e0e1c195",
   "metadata": {},
   "outputs": [
    {
     "name": "stdout",
     "output_type": "stream",
     "text": [
      "0\n",
      "2\n",
      "4\n",
      "6\n",
      "8\n"
     ]
    }
   ],
   "source": [
    "for sum in range(5):\n",
    "    sum += sum\n",
    "    print(sum)"
   ]
  },
  {
   "cell_type": "code",
   "execution_count": 32,
   "id": "d15cef63",
   "metadata": {},
   "outputs": [
    {
     "name": "stdout",
     "output_type": "stream",
     "text": [
      "2\n",
      "3\n",
      "3\n",
      "4\n",
      "4\n",
      "5\n",
      "5\n",
      "5\n",
      "6\n",
      "6\n",
      "6\n"
     ]
    }
   ],
   "source": [
    "for outer_loop in range(2, 6+1):\n",
    "    for inner_loop in range(outer_loop):\n",
    "        if inner_loop % 2 == 0:\n",
    "            print(outer_loop)\n",
    "            "
   ]
  },
  {
   "cell_type": "code",
   "execution_count": null,
   "id": "8767472e",
   "metadata": {},
   "outputs": [],
   "source": [
    "def count_numbers(first, last):\n",
    "  # Loop through the numbers from first to last \n",
    "  x = first\n",
    "  while x <= last:\n",
    "    print(x)\n",
    "    x+=1\n",
    "\n",
    "\n",
    "count_numbers(2, 6) \n",
    "# Should print:"
   ]
  },
  {
   "cell_type": "code",
   "execution_count": null,
   "id": "06e2d0aa",
   "metadata": {},
   "outputs": [],
   "source": [
    "def sequence(low, high):\n",
    "    # Complete the outer loop range to make the loop run twice\n",
    "    # to create two rows\n",
    "    for x in range(high,2): \n",
    "        # Complete the inner loop range to print the given variable\n",
    "        # numbers starting from \"high\" to \"low\" \n",
    "        # Hint: To decrement a range parameter, use negative numbers\n",
    "        for y in range(3): \n",
    "            if y == low:\n",
    "                # Don’t print a comma after the last item\n",
    "                print(str(y)) \n",
    "            else:\n",
    "                # Print a comma and a space between numbers\n",
    "                print(str(y), end=\", \") \n",
    "\n",
    "sequence(1, 3)"
   ]
  }
 ],
 "metadata": {
  "kernelspec": {
   "display_name": "Python 3 (ipykernel)",
   "language": "python",
   "name": "python3"
  },
  "language_info": {
   "codemirror_mode": {
    "name": "ipython",
    "version": 3
   },
   "file_extension": ".py",
   "mimetype": "text/x-python",
   "name": "python",
   "nbconvert_exporter": "python",
   "pygments_lexer": "ipython3",
   "version": "3.9.12"
  }
 },
 "nbformat": 4,
 "nbformat_minor": 5
}
