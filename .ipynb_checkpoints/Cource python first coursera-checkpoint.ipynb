{
 "cells": [
  {
   "cell_type": "code",
   "execution_count": 1,
   "id": "e99698c0",
   "metadata": {},
   "outputs": [
    {
     "name": "stdout",
     "output_type": "stream",
     "text": [
      "3.16\n"
     ]
    }
   ],
   "source": [
    "print((6-2)/(5*(1+4))+3)"
   ]
  },
  {
   "cell_type": "code",
   "execution_count": 1,
   "id": "bfab6606",
   "metadata": {},
   "outputs": [
    {
     "name": "stdout",
     "output_type": "stream",
     "text": [
      "12\n"
     ]
    }
   ],
   "source": [
    "def segitiga(t,a):\n",
    "    return (t*a)/2\n",
    "a = segitiga(4,5)\n",
    "print(int(segitiga(6,4)))"
   ]
  },
  {
   "cell_type": "code",
   "execution_count": 5,
   "id": "73dd43ae",
   "metadata": {},
   "outputs": [
    {
     "name": "stdout",
     "output_type": "stream",
     "text": [
      "20\n"
     ]
    }
   ],
   "source": [
    "print(4*5)"
   ]
  },
  {
   "cell_type": "code",
   "execution_count": 18,
   "id": "41c1359a",
   "metadata": {},
   "outputs": [
    {
     "name": "stdout",
     "output_type": "stream",
     "text": [
      "(5, 5, 3)\n"
     ]
    }
   ],
   "source": [
    "def urut(a,b,c):\n",
    "    if(a>=b and a>=c and c>=b):\n",
    "        return a,c,b\n",
    "    elif(a>=b and a>=c and c<=b):\n",
    "        return a,b,c\n",
    "    elif(b>=a and b>=c and c>=a ):\n",
    "        return b,c,a\n",
    "    elif(b>=a and b>=c and c<=a ):\n",
    "        return b,a,c\n",
    "    elif(c>=a and c>=b and a>=b):\n",
    "        return c,a,b\n",
    "    else:\n",
    "        return c,b,a\n",
    "print(urut(3,5,5))\n"
   ]
  },
  {
   "cell_type": "code",
   "execution_count": 20,
   "id": "f0292667",
   "metadata": {},
   "outputs": [
    {
     "name": "stdout",
     "output_type": "stream",
     "text": [
      "genap\n",
      "ganjil\n"
     ]
    }
   ],
   "source": [
    "def genap(a):\n",
    "    if a %2 == 0:\n",
    "        return print(\"genap\")\n",
    "    else:\n",
    "        return print(\"ganjil\")\n",
    "genap(8)\n",
    "genap(7)"
   ]
  },
  {
   "cell_type": "code",
   "execution_count": 23,
   "id": "c61e9f2a",
   "metadata": {},
   "outputs": [
    {
     "name": "stdout",
     "output_type": "stream",
     "text": [
      "0\n"
     ]
    }
   ],
   "source": [
    "def calculate_storage(filesize):\n",
    "    block_size = 4096\n",
    "    # Use floor division to calculate how many blocks are fully occupied\n",
    "    full_blocks = block_size*2\n",
    "    # Use the modulo operator to check whether there's any remainder\n",
    "    partial_block_remainder = block_size % filesize \n",
    "    print(partial_block_remainder)\n",
    "calculate_storage(1)"
   ]
  },
  {
   "cell_type": "code",
   "execution_count": 24,
   "id": "ff76ef10",
   "metadata": {},
   "outputs": [
    {
     "ename": "TypeError",
     "evalue": "'<' not supported between instances of 'int' and 'str'",
     "output_type": "error",
     "traceback": [
      "\u001b[1;31m---------------------------------------------------------------------------\u001b[0m",
      "\u001b[1;31mTypeError\u001b[0m                                 Traceback (most recent call last)",
      "Cell \u001b[1;32mIn [24], line 1\u001b[0m\n\u001b[1;32m----> 1\u001b[0m \u001b[38;5;28mprint\u001b[39m(\u001b[38;5;241;43m7\u001b[39;49m\u001b[38;5;241;43m<\u001b[39;49m\u001b[38;5;124;43m\"\u001b[39;49m\u001b[38;5;124;43mnumber\u001b[39;49m\u001b[38;5;124;43m\"\u001b[39;49m)\n",
      "\u001b[1;31mTypeError\u001b[0m: '<' not supported between instances of 'int' and 'str'"
     ]
    }
   ],
   "source": [
    "print(7 < \"number\")"
   ]
  },
  {
   "cell_type": "code",
   "execution_count": 25,
   "id": "0d160e0c",
   "metadata": {},
   "outputs": [
    {
     "name": "stdout",
     "output_type": "stream",
     "text": [
      "False\n"
     ]
    }
   ],
   "source": [
    "x = 5*2\n",
    "\n",
    "print((10 != x) or (10 > x))"
   ]
  },
  {
   "cell_type": "code",
   "execution_count": null,
   "id": "c9619806",
   "metadata": {},
   "outputs": [],
   "source": [
    "def loop(x):\n",
    "    n = 1 \n",
    "    while n<=x:\n",
    "        print(\"\"+str(n))\n",
    "        n = n+1\n",
    "    print(\"done ya bang\")\n",
    "loop(9)"
   ]
  },
  {
   "cell_type": "code",
   "execution_count": 10,
   "id": "35f3f6c8",
   "metadata": {},
   "outputs": [
    {
     "name": "stdout",
     "output_type": "stream",
     "text": [
      "\n",
      "\n",
      "\n",
      "\n",
      "\n",
      "\n",
      "\n",
      "\n",
      "\n",
      "\n",
      "\n",
      "\n",
      "\n",
      "\n",
      "\n",
      "\n",
      "\n",
      "\n",
      "\n",
      "\n",
      "done y bng\n"
     ]
    }
   ],
   "source": [
    "def prima(n):\n",
    "    while n <= 20:\n",
    "        n += 1\n",
    "        if n % 2 == 0 and n %3 == 0 and n % 5 == 0 and n % 7 == 0:\n",
    "            print(n)\n",
    "            n += 1\n",
    "        else:\n",
    "            print()\n",
    "            n += 1\n",
    "    print(\"done y bng\")\n",
    "prima(1)"
   ]
  },
  {
   "cell_type": "code",
   "execution_count": null,
   "id": "15a48b4f",
   "metadata": {},
   "outputs": [],
   "source": []
  }
 ],
 "metadata": {
  "kernelspec": {
   "display_name": "Python 3 (ipykernel)",
   "language": "python",
   "name": "python3"
  },
  "language_info": {
   "codemirror_mode": {
    "name": "ipython",
    "version": 3
   },
   "file_extension": ".py",
   "mimetype": "text/x-python",
   "name": "python",
   "nbconvert_exporter": "python",
   "pygments_lexer": "ipython3",
   "version": "3.9.12"
  }
 },
 "nbformat": 4,
 "nbformat_minor": 5
}
