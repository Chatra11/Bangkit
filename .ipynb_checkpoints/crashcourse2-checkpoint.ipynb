{
 "cells": [
  {
   "cell_type": "code",
   "execution_count": 38,
   "id": "c478d2d4",
   "metadata": {},
   "outputs": [
    {
     "name": "stdout",
     "output_type": "stream",
     "text": [
      "3, 2, 1\n",
      "3, 2, 1\n"
     ]
    }
   ],
   "source": [
    "def sequence(low, high):\n",
    "    # Complete the outer loop range to make the loop run twice\n",
    "    # to create two rows\n",
    "    for x in range(2): \n",
    "        for y in range(high,low-1,-1): \n",
    "            if y == low:\n",
    "                # Don’t print a comma after the last item\n",
    "                print(str(y)) \n",
    "            else:\n",
    "                # Print a comma and a space between numbers\n",
    "                print(str(y), end=\", \") \n",
    "\n",
    "sequence(1, 3)"
   ]
  },
  {
   "cell_type": "code",
   "execution_count": 39,
   "id": "c8388218",
   "metadata": {},
   "outputs": [
    {
     "name": "stdout",
     "output_type": "stream",
     "text": [
      "0\n",
      "0\n",
      "2\n",
      "0\n",
      "2\n",
      "0\n",
      "2\n",
      "4\n",
      "0\n",
      "2\n",
      "4\n"
     ]
    }
   ],
   "source": [
    "for outer_loop in range(2, 6+1):\n",
    "    for inner_loop in range(outer_loop):\n",
    "        if inner_loop % 2 == 0:\n",
    "            print(inner_loop)"
   ]
  },
  {
   "cell_type": "code",
   "execution_count": null,
   "id": "b6a5293a",
   "metadata": {},
   "outputs": [],
   "source": []
  }
 ],
 "metadata": {
  "kernelspec": {
   "display_name": "Python 3 (ipykernel)",
   "language": "python",
   "name": "python3"
  },
  "language_info": {
   "codemirror_mode": {
    "name": "ipython",
    "version": 3
   },
   "file_extension": ".py",
   "mimetype": "text/x-python",
   "name": "python",
   "nbconvert_exporter": "python",
   "pygments_lexer": "ipython3",
   "version": "3.9.12"
  }
 },
 "nbformat": 4,
 "nbformat_minor": 5
}
